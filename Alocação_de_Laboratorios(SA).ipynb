{
  "cells": [
    {
      "cell_type": "markdown",
      "metadata": {
        "id": "view-in-github",
        "colab_type": "text"
      },
      "source": [
        "<a href=\"https://colab.research.google.com/github/Akinori2/Alocacao_de_laboratorios-SA-/blob/main/Aloca%C3%A7%C3%A3o_de_Laboratorios(SA).ipynb\" target=\"_parent\"><img src=\"https://colab.research.google.com/assets/colab-badge.svg\" alt=\"Open In Colab\"/></a>"
      ]
    },
    {
      "cell_type": "markdown",
      "metadata": {
        "id": "p8I1dxhcHoxz"
      },
      "source": [
        "Bibliotecas usadas  \n",
        "-random: importa numeros aleatorios   \n",
        "-math: importa exponenciais e algoritimos   \n",
        "-deffaultdict: estrutura de dicionário com valores padrão"
      ]
    },
    {
      "cell_type": "code",
      "execution_count": 27,
      "metadata": {
        "id": "nRSz7BbMmSB2"
      },
      "outputs": [],
      "source": [
        "import random\n",
        "import math\n",
        "from collections import defaultdict"
      ]
    },
    {
      "cell_type": "markdown",
      "metadata": {
        "id": "SoVYJDZdHrk4"
      },
      "source": [
        "Dados das matérias categorizados em graus de importancia, numeros de alunos por materias, se a aula é pratica ou não e o periodo da turma"
      ]
    },
    {
      "cell_type": "code",
      "execution_count": 28,
      "metadata": {
        "id": "KPh4jRddmX9c"
      },
      "outputs": [],
      "source": [
        "materias = {\n",
        "    # Importancia 3\n",
        "    'Programação 1': {'alunos': 60, 'pratica': True, 'importancia': 3, 'periodo': 1},\n",
        "    'Estruturas de Dados': {'alunos': 50, 'pratica': True, 'importancia': 3, 'periodo': 3},\n",
        "    'Banco de Dados': {'alunos': 40, 'pratica': True, 'importancia': 3, 'periodo': 4},\n",
        "    'Redes de Computadores': {'alunos': 30, 'pratica': True, 'importancia': 3, 'periodo': 5},\n",
        "    'Inteligência Artificial': {'alunos': 20, 'pratica': True, 'importancia': 3, 'periodo': 6},\n",
        "    'Desenvolvimento de Software': {'alunos': 30, 'pratica': True, 'importancia': 3, 'periodo': 7},\n",
        "\n",
        "    # Importancia 2\n",
        "    'Arquitetura de Computadores': {'alunos': 40, 'pratica': True, 'importancia': 2, 'periodo': 2},\n",
        "    'Sistemas Operacionais': {'alunos': 40, 'pratica': True, 'importancia': 2, 'periodo': 3},\n",
        "    'Engenharia de Software': {'alunos': 40, 'pratica': True, 'importancia': 2, 'periodo': 4},\n",
        "    'Segurança da Informação': {'alunos': 30, 'pratica': True, 'importancia': 2, 'periodo': 5},\n",
        "    'Computação em Nuvem': {'alunos': 25, 'pratica': True, 'importancia': 2, 'periodo': 6},\n",
        "    'Computação Gráfica': {'alunos': 20, 'pratica': True, 'importancia': 2, 'periodo': 7},\n",
        "\n",
        "    # Importancia 1\n",
        "    'Introdução à Computação': {'alunos': 60, 'pratica': False, 'importancia': 1, 'periodo': 1},\n",
        "    'Cálculo Numérico': {'alunos': 35, 'pratica': False, 'importancia': 1, 'periodo': 4},\n",
        "    'Teoria da Computação': {'alunos': 30, 'pratica': False, 'importancia': 1, 'periodo': 5},\n",
        "    'Sistemas Digitais': {'alunos': 30, 'pratica': True, 'importancia': 1, 'periodo': 6},\n",
        "    'Ética na Computação': {'alunos': 40, 'pratica': False, 'importancia': 1, 'periodo': 7},\n",
        "    'Empreendedorismo em TI': {'alunos': 35, 'pratica': False, 'importancia': 1, 'periodo': 8}\n",
        "}\n"
      ]
    },
    {
      "cell_type": "markdown",
      "metadata": {
        "id": "4FAPCBe6Htjx"
      },
      "source": [
        "Salas disponiveis:   \n",
        "sala G: capacidade alta para alocação de alunos mas equipada com equipamentos mais basicos   \n",
        "sala P: menor capacidade de alunos mas equipada com melhores equipamentos para tarefas especificas"
      ]
    },
    {
      "cell_type": "code",
      "execution_count": 29,
      "metadata": {
        "id": "-0FI-gQFmlZ_"
      },
      "outputs": [],
      "source": [
        "salas = {\n",
        "    'Sala Grande': {'limite': 60, 'tipo': 'normal'},\n",
        "    'Sala Pequena': {'limite': 25, 'tipo': 'especial'}\n",
        "}"
      ]
    },
    {
      "cell_type": "markdown",
      "metadata": {
        "id": "yqK3kebXHvyP"
      },
      "source": [
        "Horarios e dias da semana que a sala poderá atuar"
      ]
    },
    {
      "cell_type": "code",
      "execution_count": 30,
      "metadata": {
        "id": "gzDSP33o1gKx"
      },
      "outputs": [],
      "source": [
        "horarios = ['Manhã (8-10)', 'Tarde (10-12)']\n",
        "dias_semana = ['Segunda', 'Terça', 'Quarta', 'Quinta', 'Sexta']"
      ]
    },
    {
      "cell_type": "markdown",
      "metadata": {
        "id": "7c2A1pSxHyIa"
      },
      "source": [
        "Divide as matérias priorizando o grau de importância e quantidade de alunos, logo apos retrona duas grades organizada, facilitando a distribuição nos horários"
      ]
    },
    {
      "cell_type": "code",
      "execution_count": 31,
      "metadata": {
        "id": "ddBuCN381j5o"
      },
      "outputs": [],
      "source": [
        "def separar_materias():\n",
        "    materias_grande = []\n",
        "    materias_pequena = []\n",
        "\n",
        "    for nome, info in materias.items():\n",
        "        if not info['pratica']:\n",
        "            continue\n",
        "\n",
        "        # Prioriza alocar matérias importantes na sala pequena\n",
        "        if info['alunos'] <= salas['Sala Pequena']['limite']:\n",
        "            if info['importancia'] >= 2:\n",
        "                materias_pequena.append(nome)\n",
        "            elif info['importancia'] == 1 and info['alunos'] > salas['Sala Grande']['limite']:\n",
        "                materias_pequena.append(nome)\n",
        "        elif info['alunos'] <= salas['Sala Grande']['limite']:\n",
        "            materias_grande.append(nome)\n",
        "\n",
        "    return materias_grande, materias_pequena"
      ]
    },
    {
      "cell_type": "markdown",
      "source": [
        "Garante que as materias vao preencher toda grade de horario, se necessario completa a grade com outras diciplinas praticas"
      ],
      "metadata": {
        "id": "kYwEJA3wRF-P"
      }
    },
    {
      "cell_type": "code",
      "source": [
        "def completar_horarios(lista_materias, sala):\n",
        "    total_needed = len(dias_semana) * len(horarios)\n",
        "    disponiveis = lista_materias.copy()\n",
        "    # Pega as que se encaixam mesmo não sendo ideais, caso o codigo ache necessario\n",
        "    if len(disponiveis) < total_needed:\n",
        "        for nome, info in materias.items():\n",
        "            if nome not in disponiveis and info['pratica']:\n",
        "                disponiveis.append(nome)\n",
        "                if len(disponiveis) >= total_needed:\n",
        "                    break\n",
        "\n",
        "    return disponiveis[:total_needed]"
      ],
      "metadata": {
        "id": "mqOjSXNURCfp"
      },
      "execution_count": 32,
      "outputs": []
    },
    {
      "cell_type": "markdown",
      "metadata": {
        "id": "_9y89S8RH0ed"
      },
      "source": [
        "Separa as materias e distribui elas aleatoriamente garantindo uma grade completa e equilibrada"
      ]
    },
    {
      "cell_type": "code",
      "execution_count": 33,
      "metadata": {
        "id": "Gc9qgpbGmnLv"
      },
      "outputs": [],
      "source": [
        "def criar_grade_inicial():\n",
        "    # Separando as matérias\n",
        "    materias_g, materias_p = separar_materias()\n",
        "    materias_g = completar_horarios(materias_g, 'Sala Grande')\n",
        "    materias_p = completar_horarios(materias_p, 'Sala Pequena')\n",
        "    # Distribuindo aleatoriamente:\n",
        "    random.shuffle(materias_g)\n",
        "    random.shuffle(materias_p)\n",
        "\n",
        "    grade = {}\n",
        "    for dia in dias_semana:\n",
        "        for horario in horarios:\n",
        "            if materias_g:\n",
        "                grade[('Sala Grande', dia, horario)] = materias_g.pop()\n",
        "            if materias_p:\n",
        "                grade[('Sala Pequena', dia, horario)] = materias_p.pop()\n",
        "\n",
        "    return grade"
      ]
    },
    {
      "cell_type": "markdown",
      "metadata": {
        "id": "jXOtLHzjH2fn"
      },
      "source": [
        "Avalia a grade e decide o grau de penalidade em um sistema de pontos sendo:  \n",
        "-salas superlotadas  \n",
        "-matérias repetidas  \n",
        "-importância media  "
      ]
    },
    {
      "cell_type": "code",
      "execution_count": 34,
      "metadata": {
        "id": "lXEvHiqHmoZK"
      },
      "outputs": [],
      "source": [
        "def avaliar_grade(grade):\n",
        "    pontos = 0\n",
        "    contagem = defaultdict(int)\n",
        "    soma_importancia = {'Sala Grande': 0, 'Sala Pequena': 0}\n",
        "    contagem_salas = {'Sala Grande': 0, 'Sala Pequena': 0}\n",
        "\n",
        "    for (sala, _, _), materia in grade.items():\n",
        "        info = materias[materia]\n",
        "        contagem[materia] += 1\n",
        "        soma_importancia[sala] += info['importancia']\n",
        "        contagem_salas[sala] += 1\n",
        "\n",
        "        # Verifica regras básicas\n",
        "        if info['alunos'] > salas[sala]['limite']:\n",
        "            pontos += 30\n",
        "        if contagem[materia] > 1:\n",
        "            pontos += 50\n",
        "\n",
        "    # Calcula as médias\n",
        "    media_grande = soma_importancia['Sala Grande'] / max(1, contagem_salas['Sala Grande'])\n",
        "    media_pequena = soma_importancia['Sala Pequena'] / max(1, contagem_salas['Sala Pequena'])\n",
        "\n",
        "    # Aplica uma penalidade pesada se a média da pequena não for maior\n",
        "    if media_pequena <= media_grande:\n",
        "        pontos += 100 * (media_grande - media_pequena + 0.5)\n",
        "\n",
        "    return pontos"
      ]
    },
    {
      "cell_type": "markdown",
      "metadata": {
        "id": "VsUFpcn5H4nN"
      },
      "source": [
        "Cria uma variaçao da grade sempre que ocorre uma troca de disciplinas nas grades"
      ]
    },
    {
      "cell_type": "code",
      "execution_count": 35,
      "metadata": {
        "id": "Wc8HtwQSmqCb"
      },
      "outputs": [],
      "source": [
        "def gerar_variacao(grade):\n",
        "    nova_grade = grade.copy()\n",
        "    chaves = list(nova_grade.keys())\n",
        "\n",
        "    if len(chaves) >= 2:\n",
        "        i, j = random.sample(range(len(chaves)), 2)\n",
        "        chave1, chave2 = chaves[i], chaves[j]\n",
        "        nova_grade[chave1], nova_grade[chave2] = nova_grade[chave2], nova_grade[chave1]\n",
        "\n",
        "    return nova_grade"
      ]
    },
    {
      "cell_type": "markdown",
      "metadata": {
        "id": "luZUsfvPIT8B"
      },
      "source": [
        "Implementação do algoritimo SA: \\\\\n",
        "Começa com uma grade aleatória e, a cada passo, gera variações trocando disciplinas, aceitando melhorias imediatas ou soluções piores temporariamente"
      ]
    },
    {
      "cell_type": "code",
      "execution_count": 36,
      "metadata": {
        "id": "1BC0MOe3msgS"
      },
      "outputs": [],
      "source": [
        "def melhorar_grade():\n",
        "    melhor = criar_grade_inicial()\n",
        "    melhor_pontos = avaliar_grade(melhor)\n",
        "    temp = 1000\n",
        "\n",
        "    for passo in range(1, 15001):  # Interaçoes podem ser modificadas\n",
        "        nova = gerar_variacao(melhor)\n",
        "        pontos = avaliar_grade(nova)\n",
        "\n",
        "        if pontos < melhor_pontos or random.random() < math.exp((melhor_pontos - pontos)/temp):\n",
        "            melhor, melhor_pontos = nova, pontos\n",
        "\n",
        "        temp *= 0.999  # Resfriamento mais lento para melhorar resultados\n",
        "\n",
        "        if passo % 1000 == 0:\n",
        "          return melhor"
      ]
    },
    {
      "cell_type": "markdown",
      "metadata": {
        "id": "kX8fVgrvIl6H"
      },
      "source": [
        "Exibe e formata a grade organizando a mesma por sala, dia e horário"
      ]
    },
    {
      "cell_type": "code",
      "execution_count": 37,
      "metadata": {
        "id": "ViK4BFxYm1uF"
      },
      "outputs": [],
      "source": [
        "def mostrar_resultado(grade):\n",
        "    for sala in salas:\n",
        "        print(f\"\\n{sala} ({salas[sala]['limite']} alunos)\")\n",
        "        print(\"-\" * 50)\n",
        "        print(f\"{'Dia':<10} | {'8-10h':<20} | {'10-12h':<20}\")\n",
        "        print(\"-\" * 50)\n",
        "\n",
        "        for dia in dias_semana:\n",
        "            linha = f\"{dia:<10} | \"\n",
        "            for horario in horarios:\n",
        "                materia = grade.get((sala, dia, horario), \"VAZIO\")\n",
        "                info = materias.get(materia, {})\n",
        "\n",
        "                linha += f\"{materia:<20} | \"\n",
        "            print(linha)\n",
        "        print(\"-\" * 50)"
      ]
    },
    {
      "cell_type": "markdown",
      "metadata": {
        "id": "R_q6FLTaItGj"
      },
      "source": [
        "Execução e exibição do codigo"
      ]
    },
    {
      "cell_type": "code",
      "execution_count": 38,
      "metadata": {
        "id": "hpgjd3s5IpAO",
        "colab": {
          "base_uri": "https://localhost:8080/"
        },
        "outputId": "c3913844-3957-4248-8695-8f078d748c0a"
      },
      "outputs": [
        {
          "output_type": "stream",
          "name": "stdout",
          "text": [
            "\n",
            "Resultado final:\n",
            "\n",
            "Sala Grande (60 alunos)\n",
            "--------------------------------------------------\n",
            "Dia        | 8-10h                | 10-12h              \n",
            "--------------------------------------------------\n",
            "Segunda    | Inteligência Artificial | Arquitetura de Computadores | \n",
            "Terça      | Computação Gráfica   | Sistemas Digitais    | \n",
            "Quarta     | Banco de Dados       | Estruturas de Dados  | \n",
            "Quinta     | Sistemas Operacionais | Programação 1        | \n",
            "Sexta      | Sistemas Operacionais | Desenvolvimento de Software | \n",
            "--------------------------------------------------\n",
            "\n",
            "Sala Pequena (25 alunos)\n",
            "--------------------------------------------------\n",
            "Dia        | 8-10h                | 10-12h              \n",
            "--------------------------------------------------\n",
            "Segunda    | Redes de Computadores | Banco de Dados       | \n",
            "Terça      | Programação 1        | Redes de Computadores | \n",
            "Quarta     | Arquitetura de Computadores | Estruturas de Dados  | \n",
            "Quinta     | Segurança da Informação | Engenharia de Software | \n",
            "Sexta      | Computação em Nuvem  | Desenvolvimento de Software | \n",
            "--------------------------------------------------\n"
          ]
        }
      ],
      "source": [
        "grade_otimizada = melhorar_grade()\n",
        "\n",
        "print(\"\\nResultado final:\")\n",
        "mostrar_resultado(grade_otimizada)"
      ]
    },
    {
      "cell_type": "markdown",
      "metadata": {
        "id": "SKiUBFa2Iwvu"
      },
      "source": [
        "Estatísticas das salas e materias  \n",
        "a preferencia sempre deve ser sobre a maior media da sala pequena em relaçao a sala grande comprovando a priorização correta de disciplinas relevantes no espaço menor"
      ]
    },
    {
      "cell_type": "code",
      "execution_count": 39,
      "metadata": {
        "colab": {
          "base_uri": "https://localhost:8080/"
        },
        "id": "q3SHHR5Am3J4",
        "outputId": "ddec3feb-8794-41c0-f548-7d86b1e1e533"
      },
      "outputs": [
        {
          "output_type": "stream",
          "name": "stdout",
          "text": [
            "\n",
            "Estatísticas:\n",
            "\n",
            "Sala Grande:\n",
            "- Aulas: 10\n",
            "- Matérias únicas: 9\n",
            "- Importância média: 2.4\n",
            "\n",
            "Sala Pequena:\n",
            "- Aulas: 10\n",
            "- Matérias únicas: 9\n",
            "- Importância média: 2.6\n"
          ]
        }
      ],
      "source": [
        "print(\"\\nEstatísticas:\")\n",
        "for sala in salas:\n",
        "    aulas = [m for (s,_,_), m in grade_otimizada.items() if s == sala]\n",
        "    print(f\"\\n{sala}:\")\n",
        "    print(f\"- Aulas: {len(aulas)}\")\n",
        "    print(f\"- Matérias únicas: {len(set(aulas))}\")\n",
        "    print(f\"- Importância média: {sum(materias[m]['importancia'] for m in aulas)/len(aulas):.1f}\")"
      ]
    }
  ],
  "metadata": {
    "colab": {
      "provenance": [],
      "include_colab_link": true
    },
    "kernelspec": {
      "display_name": "Python 3",
      "name": "python3"
    },
    "language_info": {
      "name": "python"
    }
  },
  "nbformat": 4,
  "nbformat_minor": 0
}